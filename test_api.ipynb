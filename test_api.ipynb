{
 "cells": [
  {
   "cell_type": "code",
   "execution_count": null,
   "id": "4e650f85",
   "metadata": {},
   "outputs": [],
   "source": [
    "import requests"
   ]
  },
  {
   "cell_type": "code",
   "execution_count": null,
   "id": "46c3a095",
   "metadata": {},
   "outputs": [],
   "source": [
    "res = requests.get(\"http://127.0.0.1:5000/\")\n",
    "print(f\"/ => {res.status_code} | {res.text}\")"
   ]
  },
  {
   "cell_type": "code",
   "execution_count": null,
   "id": "f45364e7",
   "metadata": {},
   "outputs": [],
   "source": [
    "res = requests.get(\"http://127.0.0.1:5000/mojastrona\")\n",
    "print(f\"/mojastrona => {res.status_code} | {res.text}\")"
   ]
  },
  {
   "cell_type": "code",
   "execution_count": null,
   "id": "30cf9aeb",
   "metadata": {},
   "outputs": [],
   "source": [
    "res1 = requests.get(\"http://127.0.0.1:5000/hello\")\n",
    "res2 = requests.get(\"http://127.0.0.1:5000/hello?name=Miłosz\")\n",
    "print(f\"/hello => {res1.status_code} | {res1.text}\")\n",
    "print(f\"/hello?name=Miłosz => {res2.status_code} | {res2.text}\")"
   ]
  },
  {
   "cell_type": "code",
   "execution_count": null,
   "id": "32a4c3e6",
   "metadata": {},
   "outputs": [],
   "source": [
    "res3 = requests.get(\"http://127.0.0.1:5000/api/v1.0/predict?num1=2&num2=4\")\n",
    "print(f\"/predict?num1=2&num2=4 => {res3.status_code} | {res3.json()}\")"
   ]
  },
  {
   "cell_type": "code",
   "execution_count": null,
   "id": "ffff2305",
   "metadata": {},
   "outputs": [],
   "source": []
  }
 ],
 "metadata": {
  "language_info": {
   "name": "python"
  }
 },
 "nbformat": 4,
 "nbformat_minor": 5
}
